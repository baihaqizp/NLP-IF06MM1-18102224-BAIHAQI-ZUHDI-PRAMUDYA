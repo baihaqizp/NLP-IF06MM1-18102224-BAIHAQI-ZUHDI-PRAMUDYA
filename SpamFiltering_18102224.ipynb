{
  "nbformat": 4,
  "nbformat_minor": 0,
  "metadata": {
    "colab": {
      "name": "SpamFiltering_18102224.ipynb",
      "provenance": [],
      "authorship_tag": "ABX9TyMriKxl+WgDlJyhQjvX84cz",
      "include_colab_link": true
    },
    "kernelspec": {
      "name": "python3",
      "display_name": "Python 3"
    },
    "language_info": {
      "name": "python"
    }
  },
  "cells": [
    {
      "cell_type": "markdown",
      "metadata": {
        "id": "view-in-github",
        "colab_type": "text"
      },
      "source": [
        "<a href=\"https://colab.research.google.com/github/baihaqizp/NLP-IF06MM1-18102224-BAIHAQI-ZUHDI-PRAMUDYA/blob/main/SpamFiltering_18102224.ipynb\" target=\"_parent\"><img src=\"https://colab.research.google.com/assets/colab-badge.svg\" alt=\"Open In Colab\"/></a>"
      ]
    },
    {
      "cell_type": "code",
      "metadata": {
        "colab": {
          "base_uri": "https://localhost:8080/"
        },
        "id": "dugSv7kVbevL",
        "outputId": "f8a6eabe-fd5e-4bb0-dd5c-40b3fcf074eb"
      },
      "source": [
        "#18102224/Baihaqi Zuhdi Pramudya/S1IF-06-MM1\n",
        "\n",
        "!pip install autocorrect\n",
        "import re\n",
        "import nltk\n",
        "nltk.download('stopwords')\n",
        "nltk.download('wordnet')\n",
        "nltk.download('punkt')"
      ],
      "execution_count": 1,
      "outputs": [
        {
          "output_type": "stream",
          "text": [
            "Collecting autocorrect\n",
            "\u001b[?25l  Downloading https://files.pythonhosted.org/packages/08/ba/c1a61e1ad64f62b29a53dc55cec451ded52eb6084a5822566cc41d01a578/autocorrect-2.4.0.tar.gz (622kB)\n",
            "\r\u001b[K     |▌                               | 10kB 15.1MB/s eta 0:00:01\r\u001b[K     |█                               | 20kB 19.2MB/s eta 0:00:01\r\u001b[K     |█▋                              | 30kB 23.0MB/s eta 0:00:01\r\u001b[K     |██                              | 40kB 25.7MB/s eta 0:00:01\r\u001b[K     |██▋                             | 51kB 27.5MB/s eta 0:00:01\r\u001b[K     |███▏                            | 61kB 24.3MB/s eta 0:00:01\r\u001b[K     |███▊                            | 71kB 24.5MB/s eta 0:00:01\r\u001b[K     |████▏                           | 81kB 17.4MB/s eta 0:00:01\r\u001b[K     |████▊                           | 92kB 18.3MB/s eta 0:00:01\r\u001b[K     |█████▎                          | 102kB 19.5MB/s eta 0:00:01\r\u001b[K     |█████▉                          | 112kB 19.5MB/s eta 0:00:01\r\u001b[K     |██████▎                         | 122kB 19.5MB/s eta 0:00:01\r\u001b[K     |██████▉                         | 133kB 19.5MB/s eta 0:00:01\r\u001b[K     |███████▍                        | 143kB 19.5MB/s eta 0:00:01\r\u001b[K     |████████                        | 153kB 19.5MB/s eta 0:00:01\r\u001b[K     |████████▍                       | 163kB 19.5MB/s eta 0:00:01\r\u001b[K     |█████████                       | 174kB 19.5MB/s eta 0:00:01\r\u001b[K     |█████████▌                      | 184kB 19.5MB/s eta 0:00:01\r\u001b[K     |██████████                      | 194kB 19.5MB/s eta 0:00:01\r\u001b[K     |██████████▌                     | 204kB 19.5MB/s eta 0:00:01\r\u001b[K     |███████████                     | 215kB 19.5MB/s eta 0:00:01\r\u001b[K     |███████████▋                    | 225kB 19.5MB/s eta 0:00:01\r\u001b[K     |████████████▏                   | 235kB 19.5MB/s eta 0:00:01\r\u001b[K     |████████████▋                   | 245kB 19.5MB/s eta 0:00:01\r\u001b[K     |█████████████▏                  | 256kB 19.5MB/s eta 0:00:01\r\u001b[K     |█████████████▊                  | 266kB 19.5MB/s eta 0:00:01\r\u001b[K     |██████████████▏                 | 276kB 19.5MB/s eta 0:00:01\r\u001b[K     |██████████████▊                 | 286kB 19.5MB/s eta 0:00:01\r\u001b[K     |███████████████▎                | 296kB 19.5MB/s eta 0:00:01\r\u001b[K     |███████████████▉                | 307kB 19.5MB/s eta 0:00:01\r\u001b[K     |████████████████▎               | 317kB 19.5MB/s eta 0:00:01\r\u001b[K     |████████████████▉               | 327kB 19.5MB/s eta 0:00:01\r\u001b[K     |█████████████████▍              | 337kB 19.5MB/s eta 0:00:01\r\u001b[K     |██████████████████              | 348kB 19.5MB/s eta 0:00:01\r\u001b[K     |██████████████████▍             | 358kB 19.5MB/s eta 0:00:01\r\u001b[K     |███████████████████             | 368kB 19.5MB/s eta 0:00:01\r\u001b[K     |███████████████████▌            | 378kB 19.5MB/s eta 0:00:01\r\u001b[K     |████████████████████            | 389kB 19.5MB/s eta 0:00:01\r\u001b[K     |████████████████████▌           | 399kB 19.5MB/s eta 0:00:01\r\u001b[K     |█████████████████████           | 409kB 19.5MB/s eta 0:00:01\r\u001b[K     |█████████████████████▋          | 419kB 19.5MB/s eta 0:00:01\r\u001b[K     |██████████████████████▏         | 430kB 19.5MB/s eta 0:00:01\r\u001b[K     |██████████████████████▋         | 440kB 19.5MB/s eta 0:00:01\r\u001b[K     |███████████████████████▏        | 450kB 19.5MB/s eta 0:00:01\r\u001b[K     |███████████████████████▊        | 460kB 19.5MB/s eta 0:00:01\r\u001b[K     |████████████████████████▎       | 471kB 19.5MB/s eta 0:00:01\r\u001b[K     |████████████████████████▊       | 481kB 19.5MB/s eta 0:00:01\r\u001b[K     |█████████████████████████▎      | 491kB 19.5MB/s eta 0:00:01\r\u001b[K     |█████████████████████████▉      | 501kB 19.5MB/s eta 0:00:01\r\u001b[K     |██████████████████████████▍     | 512kB 19.5MB/s eta 0:00:01\r\u001b[K     |██████████████████████████▉     | 522kB 19.5MB/s eta 0:00:01\r\u001b[K     |███████████████████████████▍    | 532kB 19.5MB/s eta 0:00:01\r\u001b[K     |████████████████████████████    | 542kB 19.5MB/s eta 0:00:01\r\u001b[K     |████████████████████████████▍   | 552kB 19.5MB/s eta 0:00:01\r\u001b[K     |█████████████████████████████   | 563kB 19.5MB/s eta 0:00:01\r\u001b[K     |█████████████████████████████▌  | 573kB 19.5MB/s eta 0:00:01\r\u001b[K     |██████████████████████████████  | 583kB 19.5MB/s eta 0:00:01\r\u001b[K     |██████████████████████████████▌ | 593kB 19.5MB/s eta 0:00:01\r\u001b[K     |███████████████████████████████ | 604kB 19.5MB/s eta 0:00:01\r\u001b[K     |███████████████████████████████▋| 614kB 19.5MB/s eta 0:00:01\r\u001b[K     |████████████████████████████████| 624kB 19.5MB/s \n",
            "\u001b[?25hBuilding wheels for collected packages: autocorrect\n",
            "  Building wheel for autocorrect (setup.py) ... \u001b[?25l\u001b[?25hdone\n",
            "  Created wheel for autocorrect: filename=autocorrect-2.4.0-cp37-none-any.whl size=621775 sha256=6234e73101b479567f67284528d10d67b75f0c4db12edc238a1c30adf1be4cc6\n",
            "  Stored in directory: /root/.cache/pip/wheels/1d/b0/d4/b941891ad0f8d8847be03583e21e68ed4732d763c71a6c0943\n",
            "Successfully built autocorrect\n",
            "Installing collected packages: autocorrect\n",
            "Successfully installed autocorrect-2.4.0\n",
            "[nltk_data] Downloading package stopwords to /root/nltk_data...\n",
            "[nltk_data]   Unzipping corpora/stopwords.zip.\n",
            "[nltk_data] Downloading package wordnet to /root/nltk_data...\n",
            "[nltk_data]   Unzipping corpora/wordnet.zip.\n",
            "[nltk_data] Downloading package punkt to /root/nltk_data...\n",
            "[nltk_data]   Unzipping tokenizers/punkt.zip.\n"
          ],
          "name": "stdout"
        },
        {
          "output_type": "execute_result",
          "data": {
            "text/plain": [
              "True"
            ]
          },
          "metadata": {
            "tags": []
          },
          "execution_count": 1
        }
      ]
    },
    {
      "cell_type": "code",
      "metadata": {
        "id": "W1AJgzgXdHcq"
      },
      "source": [
        "from nltk.corpus import stopwords\n",
        "from nltk.tokenize import word_tokenize\n",
        "from nltk.stem import WordNetLemmatizer\n",
        "from nltk.stem import PorterStemmer\n",
        "from autocorrect import Speller"
      ],
      "execution_count": 3,
      "outputs": []
    },
    {
      "cell_type": "code",
      "metadata": {
        "id": "GZUh34YbdSOE"
      },
      "source": [
        "lemmatizer = WordNetLemmatizer()\n",
        "porStem = PorterStemmer()\n",
        "stop_words = set(stopwords.words('english'))\n",
        "spell = Speller()"
      ],
      "execution_count": 5,
      "outputs": []
    },
    {
      "cell_type": "code",
      "metadata": {
        "id": "MCJqWU9Oddga"
      },
      "source": [
        "kata_spam = ['bank', 'account', 'prize', 'car', 'number', 'win', 'transfer']\n",
        "hitung_rule = len(kata_spam)"
      ],
      "execution_count": 62,
      "outputs": []
    },
    {
      "cell_type": "code",
      "metadata": {
        "colab": {
          "base_uri": "https://localhost:8080/"
        },
        "id": "FoxdbLH-e8Tr",
        "outputId": "fc49493d-cb09-4ab7-fe6b-a1e9b95b88cf"
      },
      "source": [
        "pesan = \"Amazon is sending you a refund. Please reply with your bank account and routing number to receive your refund.\"\n",
        "text = pesan.lower()\n",
        "print(pesan)"
      ],
      "execution_count": 63,
      "outputs": [
        {
          "output_type": "stream",
          "text": [
            "Amazon is sending you a refund. Please reply with your bank account and routing number to receive your refund.\n"
          ],
          "name": "stdout"
        }
      ]
    },
    {
      "cell_type": "code",
      "metadata": {
        "id": "f0xHQpXufKxJ"
      },
      "source": [
        "token_word = word_tokenize(text)\n",
        "spam_filter = [text for text in token_word if not text in stop_words]"
      ],
      "execution_count": 64,
      "outputs": []
    },
    {
      "cell_type": "code",
      "metadata": {
        "colab": {
          "base_uri": "https://localhost:8080/"
        },
        "id": "65HLAgOqfZDR",
        "outputId": "593ed165-8e05-40fa-b39d-569954b2f3da"
      },
      "source": [
        "for i, word in enumerate(spam_filter):\n",
        "  spam_filter[i] = spell(lemmatizer.lemmatize(porStem.stem(word)))\n",
        "print(\"Kalimat setelah tokenisasi dan lematisasi: \\n\", spam_filter)"
      ],
      "execution_count": 65,
      "outputs": [
        {
          "output_type": "stream",
          "text": [
            "Kalimat setelah tokenisasi dan lematisasi: \n",
            " ['amazon', 'send', 'refund', '.', 'plea', 'reply', 'bank', 'account', 'rout', 'number', 'receive', 'refund', '.']\n"
          ],
          "name": "stdout"
        }
      ]
    },
    {
      "cell_type": "code",
      "metadata": {
        "colab": {
          "base_uri": "https://localhost:8080/"
        },
        "id": "CND5o7hif6xU",
        "outputId": "2e50126c-4fc7-4205-9f15-cc9a800b0f2e"
      },
      "source": [
        "hitung_spam = 0\n",
        "for word in spam_filter:\n",
        "  for rule in pesan:\n",
        "    hitung_spam+= 1 if rule == word else 0\n",
        "\n",
        "ketepatan = round(hitung_spam/hitung_rule* 100, 2)\n",
        "hasil = \"spam\" if ketepatan> 53 else \"pesan bukan spam\" \n",
        "print(\"Kalimat ini memiliki ketepatan nilai sebesar\", ketepatan, \"% dan termasuk\", hasil)"
      ],
      "execution_count": 69,
      "outputs": [
        {
          "output_type": "stream",
          "text": [
            "Kalimat ini memiliki ketepatan nilai sebesar 57.14 % dan termasuk spam\n"
          ],
          "name": "stdout"
        }
      ]
    }
  ]
}
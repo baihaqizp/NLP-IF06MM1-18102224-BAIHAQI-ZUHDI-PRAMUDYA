{
  "nbformat": 4,
  "nbformat_minor": 0,
  "metadata": {
    "colab": {
      "name": "spam_filltering",
      "provenance": [],
      "collapsed_sections": [],
      "authorship_tag": "ABX9TyP+prGi+EtUhWD5x3OeX+cm",
      "include_colab_link": true
    },
    "kernelspec": {
      "name": "python3",
      "display_name": "Python 3"
    },
    "language_info": {
      "name": "python"
    }
  },
  "cells": [
    {
      "cell_type": "markdown",
      "metadata": {
        "id": "view-in-github",
        "colab_type": "text"
      },
      "source": [
        "<a href=\"https://colab.research.google.com/github/baihaqizp/NLP-IF06MM1-18102224-BAIHAQI-ZUHDI-PRAMUDYA/blob/main/spam_filltering.ipynb\" target=\"_parent\"><img src=\"https://colab.research.google.com/assets/colab-badge.svg\" alt=\"Open In Colab\"/></a>"
      ]
    },
    {
      "cell_type": "code",
      "metadata": {
        "id": "yGB4hHJ8JC9j"
      },
      "source": [
        "#set konfigurasi googledrive\n",
        "from google.colab import drive"
      ],
      "execution_count": 1,
      "outputs": []
    },
    {
      "cell_type": "code",
      "metadata": {
        "colab": {
          "base_uri": "https://localhost:8080/"
        },
        "id": "iGtHqgYiJTnb",
        "outputId": "97ac8f3f-438a-4cf3-b025-85f6c3874b38"
      },
      "source": [
        "drive.mount('/content/drive')\n",
        "file_url = '/content/drive/My Drive/NLP/Spam Filltering/SMSSpamCollection.txt'"
      ],
      "execution_count": 2,
      "outputs": [
        {
          "output_type": "stream",
          "text": [
            "Mounted at /content/drive\n"
          ],
          "name": "stdout"
        }
      ]
    },
    {
      "cell_type": "code",
      "metadata": {
        "colab": {
          "base_uri": "https://localhost:8080/",
          "height": 202
        },
        "id": "TGL8m3UqJndk",
        "outputId": "a5c820d3-6010-420b-9042-6a1448290072"
      },
      "source": [
        "import pandas as pd\n",
        "data = pd.read_csv(file_url, sep = '\\t', header=None, names=[\"label\", \"sms\"])\n",
        "data.head()"
      ],
      "execution_count": 3,
      "outputs": [
        {
          "output_type": "execute_result",
          "data": {
            "text/html": [
              "<div>\n",
              "<style scoped>\n",
              "    .dataframe tbody tr th:only-of-type {\n",
              "        vertical-align: middle;\n",
              "    }\n",
              "\n",
              "    .dataframe tbody tr th {\n",
              "        vertical-align: top;\n",
              "    }\n",
              "\n",
              "    .dataframe thead th {\n",
              "        text-align: right;\n",
              "    }\n",
              "</style>\n",
              "<table border=\"1\" class=\"dataframe\">\n",
              "  <thead>\n",
              "    <tr style=\"text-align: right;\">\n",
              "      <th></th>\n",
              "      <th>label</th>\n",
              "      <th>sms</th>\n",
              "    </tr>\n",
              "  </thead>\n",
              "  <tbody>\n",
              "    <tr>\n",
              "      <th>0</th>\n",
              "      <td>ham</td>\n",
              "      <td>Go until jurong point, crazy.. Available only ...</td>\n",
              "    </tr>\n",
              "    <tr>\n",
              "      <th>1</th>\n",
              "      <td>ham</td>\n",
              "      <td>Ok lar... Joking wif u oni...</td>\n",
              "    </tr>\n",
              "    <tr>\n",
              "      <th>2</th>\n",
              "      <td>spam</td>\n",
              "      <td>Free entry in 2 a wkly comp to win FA Cup fina...</td>\n",
              "    </tr>\n",
              "    <tr>\n",
              "      <th>3</th>\n",
              "      <td>ham</td>\n",
              "      <td>U dun say so early hor... U c already then say...</td>\n",
              "    </tr>\n",
              "    <tr>\n",
              "      <th>4</th>\n",
              "      <td>ham</td>\n",
              "      <td>Nah I don't think he goes to usf, he lives aro...</td>\n",
              "    </tr>\n",
              "  </tbody>\n",
              "</table>\n",
              "</div>"
            ],
            "text/plain": [
              "  label                                                sms\n",
              "0   ham  Go until jurong point, crazy.. Available only ...\n",
              "1   ham                      Ok lar... Joking wif u oni...\n",
              "2  spam  Free entry in 2 a wkly comp to win FA Cup fina...\n",
              "3   ham  U dun say so early hor... U c already then say...\n",
              "4   ham  Nah I don't think he goes to usf, he lives aro..."
            ]
          },
          "metadata": {
            "tags": []
          },
          "execution_count": 3
        }
      ]
    },
    {
      "cell_type": "code",
      "metadata": {
        "colab": {
          "base_uri": "https://localhost:8080/"
        },
        "id": "UdSdxxAkJwAL",
        "outputId": "ee48d3bf-4772-4d73-9dab-04ccb56972cf"
      },
      "source": [
        "import string\n",
        "import nltk\n",
        "nltk.download('stopwords')\n",
        "nltk.download('punkt')\n",
        "\n",
        "stopwords = nltk.corpus.stopwords.words('english')\n",
        "punctuation = string.punctuation\n",
        "\n",
        "print(stopwords[:5])\n",
        "print(punctuation)"
      ],
      "execution_count": 4,
      "outputs": [
        {
          "output_type": "stream",
          "text": [
            "[nltk_data] Downloading package stopwords to /root/nltk_data...\n",
            "[nltk_data]   Unzipping corpora/stopwords.zip.\n",
            "[nltk_data] Downloading package punkt to /root/nltk_data...\n",
            "[nltk_data]   Unzipping tokenizers/punkt.zip.\n",
            "['i', 'me', 'my', 'myself', 'we']\n",
            "!\"#$%&'()*+,-./:;<=>?@[\\]^_`{|}~\n"
          ],
          "name": "stdout"
        }
      ]
    },
    {
      "cell_type": "code",
      "metadata": {
        "colab": {
          "base_uri": "https://localhost:8080/"
        },
        "id": "01rPTjH1KB1c",
        "outputId": "b9f4727b-4678-43bd-ee6f-60915f31e7e6"
      },
      "source": [
        "def pre_process(sms):\n",
        "    remove_punct = \"\".join([word.lower() for word in sms if word not in punctuation])\n",
        "    tokenize = nltk.tokenize.word_tokenize(remove_punct)\n",
        "    remove_stopwords = [word for word in tokenize if word not in stopwords]\n",
        "    return remove_stopwords\n",
        "\n",
        "data['processed'] = data['sms'].apply(lambda x: pre_process(x))\n",
        "\n",
        "print(data['processed'].head())"
      ],
      "execution_count": 5,
      "outputs": [
        {
          "output_type": "stream",
          "text": [
            "0    [go, jurong, point, crazy, available, bugis, n...\n",
            "1                       [ok, lar, joking, wif, u, oni]\n",
            "2    [free, entry, 2, wkly, comp, win, fa, cup, fin...\n",
            "3        [u, dun, say, early, hor, u, c, already, say]\n",
            "4    [nah, dont, think, goes, usf, lives, around, t...\n",
            "Name: processed, dtype: object\n"
          ],
          "name": "stdout"
        }
      ]
    },
    {
      "cell_type": "code",
      "metadata": {
        "colab": {
          "base_uri": "https://localhost:8080/"
        },
        "id": "n_oSAlIkKVZi",
        "outputId": "3a5386c5-f0e1-4a6c-ef1a-3885f1cb989e"
      },
      "source": [
        "def categorize_words():\n",
        "    spam_words = []\n",
        "    ham_words = []\n",
        "    #memproses pesan spam\n",
        "    for sms in data['processed'][data['label'] == 'spam']:\n",
        "        for word in sms:\n",
        "            spam_words.append(word)\n",
        "    #memproses pesan ham\n",
        "    for sms in data['processed'][data['label'] == 'ham']:\n",
        "        for word in sms:\n",
        "            ham_words.append(word)\n",
        "    return spam_words, ham_words\n",
        "\n",
        "spam_words, ham_words = categorize_words()\n",
        "\n",
        "print(spam_words[:5])\n",
        "print(ham_words[:5])\n"
      ],
      "execution_count": 11,
      "outputs": [
        {
          "output_type": "stream",
          "text": [
            "['free', 'entry', '2', 'wkly', 'comp']\n",
            "['go', 'jurong', 'point', 'crazy', 'available']\n"
          ],
          "name": "stdout"
        }
      ]
    },
    {
      "cell_type": "code",
      "metadata": {
        "id": "iHh4_P1dMJsU"
      },
      "source": [
        "def predict(sms):\n",
        "    spam_counter = 0\n",
        "    ham_counter = 0\n",
        "\n",
        "    for word in sms:\n",
        "        spam_counter += spam_words.count(word)\n",
        "        ham_counter += ham_words.count(word)\n",
        "    print('HASIL AKHIR')\n",
        " \n",
        "    if ham_counter > spam_counter:\n",
        "        accuracy = round((ham_counter / (ham_counter + spam_counter) * 100))\n",
        "        print('pesan tidak mengandung spam, dengan presentase {}%'.format(accuracy))\n",
        "\n",
        "    elif ham_counter == spam_counter:\n",
        "        print('pesan mengandung spam')\n",
        "\n",
        "    else:\n",
        "        accuracy = round((spam_counter / (ham_counter + spam_counter)* 100))\n",
        "        print('pesan mengandung spam, dengan presentase {}%'.format(accuracy))"
      ],
      "execution_count": 17,
      "outputs": []
    },
    {
      "cell_type": "code",
      "metadata": {
        "colab": {
          "base_uri": "https://localhost:8080/"
        },
        "id": "MHvWNy3TMTPG",
        "outputId": "4ee2e081-fd81-47c5-9f06-dc1f471e1e44"
      },
      "source": [
        "user_input = input(\"Masukan kata spam atau ham untuk memeriksa ketepatan fungsi\\n\")"
      ],
      "execution_count": 18,
      "outputs": [
        {
          "output_type": "stream",
          "text": [
            "Masukan kata spam atau ham untuk memeriksa ketepatan fungsi\n",
            "WHO ARE YOU SEEING?\n"
          ],
          "name": "stdout"
        }
      ]
    },
    {
      "cell_type": "code",
      "metadata": {
        "colab": {
          "base_uri": "https://localhost:8080/"
        },
        "id": "xNWIgOsPMtEj",
        "outputId": "f9d13ed8-2af7-4662-c064-c47158728ef6"
      },
      "source": [
        "processed_input = pre_process(user_input)\n",
        "predict(processed_input)"
      ],
      "execution_count": 19,
      "outputs": [
        {
          "output_type": "stream",
          "text": [
            "HASIL AKHIR\n",
            "pesan tidak mengandung spam, dengan presentase 100%\n"
          ],
          "name": "stdout"
        }
      ]
    }
  ]
}